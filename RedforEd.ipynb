{
 "cells": [
  {
   "cell_type": "markdown",
   "id": "3e46ca7c-6918-4a66-ad33-c5efbfcaf72e",
   "metadata": {},
   "source": [
    "# Workbook for Twitter Data on #RedForEd"
   ]
  },
  {
   "cell_type": "code",
   "execution_count": null,
   "id": "f9f1c108-9163-4dd6-8701-c384254d57bf",
   "metadata": {},
   "outputs": [],
   "source": [
    "import pandas as pd \n",
    "import re\n",
    "import os\n",
    "from pathlib import Path"
   ]
  },
  {
   "cell_type": "code",
   "execution_count": null,
   "id": "3bb86b0b-1025-4bd3-86ba-fad5fded24d8",
   "metadata": {},
   "outputs": [],
   "source": [
    "#This file will not be included into the repository to protect user privacy\n",
    "data = pd.read_csv(\"3-18-21RedForEDtweetdata.csv\")"
   ]
  },
  {
   "cell_type": "markdown",
   "id": "53fd426b-0025-429a-919b-44a4f1f65f1e",
   "metadata": {},
   "source": [
    "### Limiting the dataset to 2018-2019, the period of strikes. Remove duplicates. "
   ]
  },
  {
   "cell_type": "code",
   "execution_count": null,
   "id": "226316a3-cd3d-4334-9fba-8406b4c04be3",
   "metadata": {},
   "outputs": [],
   "source": [
    "data.date = pd.to_datetime(data.date, format='%m/%d/%y')\n",
    "data = pd.DataFrame(data)\n",
    "    \n",
    "start_date = pd.to_datetime('01/01/18',format='%m/%d/%y')\n",
    "end_date = pd.to_datetime('12/31/19',format='%m/%d/%y')\n",
    "\n",
    "mask = (data['date'] > start_date) & (data['date'] <= end_date)\n",
    "data = data.loc[mask]\n",
    "data = data.drop_duplicates(subset='tweet')"
   ]
  },
  {
   "cell_type": "markdown",
   "id": "f26b9e89-7e42-45db-818e-9dd5f5198277",
   "metadata": {
    "tags": []
   },
   "source": [
    "## Graph Tweet Frequency"
   ]
  },
  {
   "cell_type": "code",
   "execution_count": null,
   "id": "0d12ebf9-651d-4ca6-8aa1-af3d5ef38d54",
   "metadata": {},
   "outputs": [],
   "source": [
    "bins = data.resample('W', on='date').count()\n",
    "bins = bins[\"date\"]"
   ]
  },
  {
   "cell_type": "code",
   "execution_count": null,
   "id": "1956af08-c028-4759-8faa-fad0221e7235",
   "metadata": {},
   "outputs": [],
   "source": [
    "import matplotlib.pyplot as plt\n",
    "import numpy as np\n",
    "import matplotlib.dates as mdates\n",
    "\n",
    "plt.style.use('_mpl-gallery')\n",
    "\n",
    "# make data:\n",
    "x = bins.index\n",
    "y = bins\n"
   ]
  },
  {
   "cell_type": "markdown",
   "id": "3a09ceff-cf12-4c68-8a59-49f941602f2f",
   "metadata": {
    "tags": []
   },
   "source": [
    "## Measure most frequent hashtag co occurence "
   ]
  },
  {
   "cell_type": "markdown",
   "id": "6fe4e4f5-5314-4343-9e35-b517dc9d8d88",
   "metadata": {},
   "source": [
    "### Parse List of Hashtags used in each Tweet"
   ]
  },
  {
   "cell_type": "code",
   "execution_count": null,
   "id": "cf57692d-6fdb-4e7a-8fa6-98856ce4d914",
   "metadata": {},
   "outputs": [],
   "source": [
    "hashtags = []\n",
    "thelist = list(data.hashtags)\n",
    "newvar = 0\n",
    "for x in thelist:\n",
    "    newstring = thelist[newvar].replace(\"[\",\"\").replace(\"]\",\"\").replace(\"'\",\"\")\n",
    "    newlist = re.split(\"\\\\s*,\\\\s*\", newstring)\n",
    "    hashtags.extend(newlist)\n",
    "    newvar = newvar + 1"
   ]
  },
  {
   "cell_type": "markdown",
   "id": "457eef4f-e7f5-4627-87bb-71bc43845fa8",
   "metadata": {},
   "source": [
    "### Count hashtag frequency"
   ]
  },
  {
   "cell_type": "code",
   "execution_count": null,
   "id": "2b2ab387-31ba-4200-86ff-f9508cad1abb",
   "metadata": {},
   "outputs": [],
   "source": [
    "hashtagCount = {}\n",
    "for tag in hashtags:\n",
    "    if tag not in hashtagCount:\n",
    "        hashtagCount[tag] = 1\n",
    "    else:\n",
    "        hashtagCount[tag] = hashtagCount[tag] + 1\n",
    "\n",
    "hashtagCount = pd.Series(hashtagCount)\n",
    "hashtagCount = hashtagCount.sort_values(ascending=False)[1:21]"
   ]
  },
  {
   "cell_type": "code",
   "execution_count": null,
   "id": "3842d80a-7e38-4110-afb1-c0d04d8e3bc7",
   "metadata": {
    "tags": []
   },
   "outputs": [],
   "source": [
    "x = hashtagCount.index\n",
    "y = hashtagCount\n",
    "\n",
    "\n",
    "font = {'family': 'sans-serif',\n",
    "        'color':  'black',\n",
    "        'weight': 'normal',\n",
    "        'size': 16,\n",
    "        }\n",
    "\n",
    "# plot\n",
    "fig, ax = plt.subplots(figsize=(7, 7))\n",
    "ax.barh(x,y,color='#eb2e28',edgecolor='black')\n",
    "ax.invert_yaxis()\n",
    "ax.set_title(\"Frequency of Hashtags with #RedForEd\",fontdict=font)\n",
    "ax.set_ylabel(\"Hashtag\")\n",
    "ax.set_xlabel(\"# of Tweets\")"
   ]
  }
 ],
 "metadata": {
  "kernelspec": {
   "display_name": "Python 3.10.4 ('ds')",
   "language": "python",
   "name": "python3"
  },
  "language_info": {
   "codemirror_mode": {
    "name": "ipython",
    "version": 3
   },
   "file_extension": ".py",
   "mimetype": "text/x-python",
   "name": "python",
   "nbconvert_exporter": "python",
   "pygments_lexer": "ipython3",
   "version": "3.10.4"
  },
  "vscode": {
   "interpreter": {
    "hash": "64a3776662997a24a2ed087fc314d1fb0ced86b8ae78a59009a03d7b36ffebb7"
   }
  }
 },
 "nbformat": 4,
 "nbformat_minor": 5
}
